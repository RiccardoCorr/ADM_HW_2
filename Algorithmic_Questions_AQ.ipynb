{
 "cells": [
  {
   "cell_type": "code",
   "execution_count": 8,
   "metadata": {},
   "outputs": [
    {
     "name": "stdout",
     "output_type": "stream",
     "text": [
      "1\n",
      "2\n",
      "0\n",
      "0\n"
     ]
    }
   ],
   "source": [
    "def box_shelves():\n",
    "    n = int(input())\n",
    "    l = []\n",
    "    \n",
    "    for i in range(n):\n",
    "        ind, ID = input().split() # O(1)\n",
    "        if ind == \"L\":\n",
    "            l.insert(0, ID) # O(1)\n",
    "            \n",
    "        elif ind == \"R\":\n",
    "            l.append(ID) # O(1)\n",
    "            \n",
    "        elif ind == \"?\":\n",
    "            l_2 = l.copy() # O(n)\n",
    "            count = 0\n",
    "            \n",
    "            if l.index(ID) <= (len(l) / 2): # O(n/2) = O(n)\n",
    "                while ID != (l_2[0]):\n",
    "                    elem_0 = l_2.pop(0) # O(1)\n",
    "                    l_2.append(elem_0) # O(1)\n",
    "                    count += 1\n",
    "                    \n",
    "            else:\n",
    "                while ID != l_2[-1]: # O(n/2) = O(n)\n",
    "                    last_elem = l_2.pop(-1) # O(1)\n",
    "                    l_2.insert(0, last_elem) # O(1)\n",
    "                    count += 1\n",
    "            print(count)\n",
    "\n",
    "box_shelves()"
   ]
  },
  {
   "cell_type": "markdown",
   "metadata": {},
   "source": [
    "                                                    CHATGPT ANSWER TO COMPUTE THE ALGORITHM'S TIME COMPLEXITY\n",
    "\n",
    "Let's analyze the time complexity of your code step by step:\n",
    "\n",
    "You're given a number $n$ as input, which indicates the number of operations.\n",
    "\n",
    "You iterate $n$ times in a for loop, so the loop has a time complexity of $O(n)$.\n",
    "\n",
    "Inside the loop, you perform various operations. Let's break them down:\n",
    "\n",
    "1. Splitting the input: ind, ID = input().split() takes $O(1)$ time as it's a constant time operation.\n",
    "\n",
    "2. Depending on the value of ind, you either insert or remove an item from the list. List operations like l.insert(), l.remove(), and l.append() are typically $O(n)$ in the worst case because they may require shifting other elements in the list.\n",
    "\n",
    "3. If ind is \"?\", you create a copy of the list l with l_2 = l.copy(). Creating a copy of a list typically has a time complexity of $O(n)$ because it requires copying each element.\n",
    "\n",
    "4. Then you perform a while loop that searches for ID in l_2. In the worst case, this while loop can run through all elements in l_2, so it has a time complexity of $O(n)$.\n",
    "\n",
    "5. Printing count is a constant time operation.\n",
    "\n",
    "In the worst case, you're performing these operations n times in the loop.\n",
    "\n",
    "So, the overall time complexity of your code is $O(n^2)$, which means it is quadratic in terms of the number of operations. This is because you have nested operations that can grow quadratically with the input size."
   ]
  },
  {
   "cell_type": "markdown",
   "metadata": {},
   "source": [
    "                                                                ANALYSIS OF CHATGPT'S TIME COMPLEXITY\n",
    "\n",
    "To validate the overall time complexity provided by ChatGPT, we can perform a theoretical analysis of the algorithm, utilizing the Big-O notation or counting iterations for each command.\n",
    "\n",
    "In the algorithm, we have two nested iteration cycles. All the functions used are well-known, so their time complexity should be relatively straightforward to determine. Specifically, we can establish the following time complexities:\n",
    "\n",
    "- `input().split()`, `list.append()`, `list.pop()`, and `list.insert(0, x)` (when the parameter \"position\" is 0) functions are all considered to be O(1) operations. They don't need to inspect the entire list; they operate at specific positions.\n",
    "\n",
    "- The `list.copy()` operation, however, requires inspecting the entire list, resulting in a time complexity of O(n).\n",
    "\n",
    "Additionally, as previously mentioned, there are two loop cycles in the algorithm: the first cycle performs exactly 'n' operations, and the second cycle executes at most 'n/2' iterations in the worst-case scenario. Consequently, both loops exhibit a time complexity of O(n).\n",
    "\n",
    "With these analyses, we can confirm that the overall time complexity of the algorithm is indeed O(n^2), which aligns with the initial assessment by ChatGPT.\n"
   ]
  },
  {
   "cell_type": "markdown",
   "metadata": {},
   "source": [
    "                                                                \n",
    "We have analyzed the time complexity of the algorithm, now the question is: can we do better? The answer is yes, the previous code isn't the fastest one to solve the problem.\n",
    "\n",
    "We can understand this by looking at the final part of the code (inside the nested \"if\" when \"ind\"=?). In fact, it's possible to apply an alternative and faster approach to arrive at the same solution, for example, by using the \"len()\" function to determine how many books need to be moved before the desired one is in the rightmost or leftmost place.\n",
    "\n",
    "\n",
    "\n",
    "\n"
   ]
  },
  {
   "cell_type": "code",
   "execution_count": 3,
   "metadata": {},
   "outputs": [
    {
     "name": "stdout",
     "output_type": "stream",
     "text": [
      "1\n",
      "\n"
     ]
    }
   ],
   "source": [
    "n = int(input())\n",
    "shelf = {}\n",
    "answers = \"\"\n",
    "\n",
    "for _ in range(n):\n",
    "    ins, id = input().split()\n",
    "\n",
    "    if ins == 'L':\n",
    "        shelf[int(id)] = None\n",
    "\n",
    "    elif ins == 'R':\n",
    "        shelf[int(id)] = None\n",
    "\n",
    "    else:  # Search\n",
    "        book_id = int(id)\n",
    "        left_pops = 0\n",
    "        right_pops = 0\n",
    "\n",
    "        for key in shelf:\n",
    "            if key < book_id:\n",
    "                left_pops += 1\n",
    "            elif key > book_id:\n",
    "                right_pops += 1\n",
    "\n",
    "        answers += str(min(left_pops, right_pops)) + \"\\n\"\n",
    "\n",
    "print(answers)"
   ]
  }
 ],
 "metadata": {
  "kernelspec": {
   "display_name": "Python 3",
   "language": "python",
   "name": "python3"
  },
  "language_info": {
   "codemirror_mode": {
    "name": "ipython",
    "version": 3
   },
   "file_extension": ".py",
   "mimetype": "text/x-python",
   "name": "python",
   "nbconvert_exporter": "python",
   "pygments_lexer": "ipython3",
   "version": "3.11.3"
  }
 },
 "nbformat": 4,
 "nbformat_minor": 2
}
