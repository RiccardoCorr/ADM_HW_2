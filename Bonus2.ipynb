{
 "cells": [
  {
   "cell_type": "markdown",
   "metadata": {},
   "source": [
    "# 2. Every book should have a field named description, and any author should have a field named description. Choose one of the two and perform a text-mining analysis:\n",
    "\n",
    "If you choose to text-mine books.json ’ descriptions, try to find a way to group books in genres using whatever procedure you want, highlighting words that are triggers for these choices.\n",
    "\n",
    "If you choose to text-mine authors.json’ about-field, try to find a way to group authors in genres using whatever procedure you want, highlighting words that are triggers for these choices."
   ]
  },
  {
   "cell_type": "code",
   "execution_count": null,
   "metadata": {},
   "outputs": [],
   "source": [
    "\n",
    "file_path = \"./authors.json\"\n",
    "ch_size = 100\n",
    "dfs = []\n",
    "\n",
    "with open(file_path, \"r\") as file:\n",
    "    for ch in pd.read_json(file, lines = True, chunksize = ch_size):\n",
    "        \n",
    "        dfs.append(ch)\n",
    "\n",
    "df_authors2 = pd.concat(dfs, ignore_index = True)\n",
    "\n",
    "# Define genre keywords and corresponding genres\n",
    "genre_keywords = {\n",
    "    \"mystery\": [\"detective\", \"mystery\", \"crime\", \"suspense\"],\n",
    "    \"fantasy\": [\"fantasy\", \"magic\", \"mythical\", \"wizard\"],\n",
    "    \"romance\": [\"romance\", \"love\", \"relationship\"],\n",
    "    \"science_fiction\": [\"science fiction\", \"space\", \"alien\", \"technology\"],\n",
    "    \"horror\": [\"horror\", \"scary\", \"terrifying\", \"spooky\"],\n",
    "    \"non_fiction\": [\"non-fiction\", \"facts\", \"truth\", \"history\"],\n",
    "}\n",
    "\n",
    "authors_by_genre = {genre: [] for genre in genre_keywords}\n",
    "authors_by_genre[\"Other\"] = []\n",
    "\n",
    "# Iterate through authors and analyze their \"about\" field\n",
    "for index, row in df_authors.iterrows():\n",
    "    author_about = row[\"about\"].lower()\n",
    "\n",
    "    # Assign the genre based on keywords\n",
    "    assigned_genre = \"Other\"  # Default to \"Other\" if no genre is matched\n",
    "    for genre, keywords in genre_keywords.items():\n",
    "        for keyword in keywords:\n",
    "            if keyword in author_about:\n",
    "                assigned_genre = genre\n",
    "                # Highlight the keyword in the about field\n",
    "                author_about = author_about.replace(keyword, f\"<strong>{keyword}</strong>\")\n",
    "\n",
    "    # Add the author to the corresponding genre\n",
    "    authors_by_genre[assigned_genre].append({\n",
    "        \"name\": row[\"name\"],\n",
    "        \"about\": author_about,\n",
    "    })\n",
    "\n",
    "# Print authors grouped by genre\n",
    "for genre, authors in authors_by_genre.items():\n",
    "    print(f\"Authors in Genre: {genre}\")\n",
    "    for author in authors:\n",
    "        print(f\"Name: {author['name']}\")\n",
    "        print(f\"About: {author['about']}\")\n",
    "        print()\n",
    "\n",
    "\n"
   ]
  }
 ],
 "metadata": {
  "language_info": {
   "name": "python"
  }
 },
 "nbformat": 4,
 "nbformat_minor": 2
}
